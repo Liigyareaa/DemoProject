{
  "nbformat": 4,
  "nbformat_minor": 0,
  "metadata": {
    "colab": {
      "name": "Untitled10.ipynb",
      "provenance": [],
      "collapsed_sections": [],
      "authorship_tag": "ABX9TyMfCt8xxT/wj5Rmsg41TGiC",
      "include_colab_link": true
    },
    "kernelspec": {
      "name": "python3",
      "display_name": "Python 3"
    },
    "language_info": {
      "name": "python"
    }
  },
  "cells": [
    {
      "cell_type": "markdown",
      "metadata": {
        "id": "view-in-github",
        "colab_type": "text"
      },
      "source": [
        "<a href=\"https://colab.research.google.com/github/Liigyareaa/DemoProject/blob/main/Untitled10.ipynb\" target=\"_parent\"><img src=\"https://colab.research.google.com/assets/colab-badge.svg\" alt=\"Open In Colab\"/></a>"
      ]
    },
    {
      "cell_type": "code",
      "metadata": {
        "id": "EMPPk07gx0qq"
      },
      "source": [
        "##importing libraries \n",
        "import pandas as pd \n",
        "import numpy as np"
      ],
      "execution_count": null,
      "outputs": []
    },
    {
      "cell_type": "code",
      "metadata": {
        "colab": {
          "base_uri": "https://localhost:8080/",
          "height": 174
        },
        "id": "4oBIzkXEyXWJ",
        "outputId": "744502c8-8e4f-4f16-b9f7-83bc3dc1e198"
      },
      "source": [
        "##Creating dataframe using pandas library \n",
        "xog = { 'Student_Name':['Vijay', 'Sundar', 'Satyam', 'Indira'],'age':[23, 45,\n",
        "46, 52 ]}\n",
        "data = pd.DataFrame(xog)\n",
        "data.head()\n"
      ],
      "execution_count": null,
      "outputs": [
        {
          "output_type": "execute_result",
          "data": {
            "text/html": [
              "<div>\n",
              "<style scoped>\n",
              "    .dataframe tbody tr th:only-of-type {\n",
              "        vertical-align: middle;\n",
              "    }\n",
              "\n",
              "    .dataframe tbody tr th {\n",
              "        vertical-align: top;\n",
              "    }\n",
              "\n",
              "    .dataframe thead th {\n",
              "        text-align: right;\n",
              "    }\n",
              "</style>\n",
              "<table border=\"1\" class=\"dataframe\">\n",
              "  <thead>\n",
              "    <tr style=\"text-align: right;\">\n",
              "      <th></th>\n",
              "      <th>Student_Name</th>\n",
              "      <th>age</th>\n",
              "    </tr>\n",
              "  </thead>\n",
              "  <tbody>\n",
              "    <tr>\n",
              "      <th>0</th>\n",
              "      <td>Vijay</td>\n",
              "      <td>23</td>\n",
              "    </tr>\n",
              "    <tr>\n",
              "      <th>1</th>\n",
              "      <td>Sundar</td>\n",
              "      <td>45</td>\n",
              "    </tr>\n",
              "    <tr>\n",
              "      <th>2</th>\n",
              "      <td>Satyam</td>\n",
              "      <td>46</td>\n",
              "    </tr>\n",
              "    <tr>\n",
              "      <th>3</th>\n",
              "      <td>Indira</td>\n",
              "      <td>52</td>\n",
              "    </tr>\n",
              "  </tbody>\n",
              "</table>\n",
              "</div>"
            ],
            "text/plain": [
              "  Student_Name  age\n",
              "0        Vijay   23\n",
              "1       Sundar   45\n",
              "2       Satyam   46\n",
              "3       Indira   52"
            ]
          },
          "metadata": {},
          "execution_count": 10
        }
      ]
    },
    {
      "cell_type": "code",
      "metadata": {
        "colab": {
          "base_uri": "https://localhost:8080/",
          "height": 112
        },
        "id": "V3LXZ1qRy7WV",
        "outputId": "959a99c2-777f-4f2f-914b-14c702262b51"
      },
      "source": [
        "## Creating Dataframe using list\n",
        "data_holder = [{'Studentname':'Ismail','Age':20,'Facuty':'Computer science'}]\n",
        "test = pd.DataFrame(data_holder,columns =['Studentname','Age','Facuty'])\n",
        "test.head()"
      ],
      "execution_count": null,
      "outputs": [
        {
          "output_type": "execute_result",
          "data": {
            "text/html": [
              "<div>\n",
              "<style scoped>\n",
              "    .dataframe tbody tr th:only-of-type {\n",
              "        vertical-align: middle;\n",
              "    }\n",
              "\n",
              "    .dataframe tbody tr th {\n",
              "        vertical-align: top;\n",
              "    }\n",
              "\n",
              "    .dataframe thead th {\n",
              "        text-align: right;\n",
              "    }\n",
              "</style>\n",
              "<table border=\"1\" class=\"dataframe\">\n",
              "  <thead>\n",
              "    <tr style=\"text-align: right;\">\n",
              "      <th></th>\n",
              "      <th>Name</th>\n",
              "      <th>Age</th>\n",
              "    </tr>\n",
              "  </thead>\n",
              "  <tbody>\n",
              "    <tr>\n",
              "      <th>0</th>\n",
              "      <td>Ismail</td>\n",
              "      <td>23</td>\n",
              "    </tr>\n",
              "    <tr>\n",
              "      <th>1</th>\n",
              "      <td>Farah</td>\n",
              "      <td>30</td>\n",
              "    </tr>\n",
              "  </tbody>\n",
              "</table>\n",
              "</div>"
            ],
            "text/plain": [
              "     Name  Age\n",
              "0  Ismail   23\n",
              "1   Farah   30"
            ]
          },
          "metadata": {},
          "execution_count": 20
        }
      ]
    },
    {
      "cell_type": "code",
      "metadata": {
        "id": "5UmCks2ezr6o"
      },
      "source": [
        "##Louding dataframe\n",
        "info = pd.read_csv(\"WHO_first9cols.csv\")\n",
        "info.describe()"
      ],
      "execution_count": null,
      "outputs": []
    },
    {
      "cell_type": "code",
      "metadata": {
        "id": "iKJcK_ey1D3D"
      },
      "source": [
        "# Show the shape of DataFrame\n",
        "print(\"Shape:\", info.shape)"
      ],
      "execution_count": null,
      "outputs": []
    },
    {
      "cell_type": "code",
      "metadata": {
        "id": "QxGa8PfK5m6E",
        "colab": {
          "base_uri": "https://localhost:8080/"
        },
        "outputId": "01b6b063-a77d-4da2-e1a2-6c872ebe42d0"
      },
      "source": [
        "# Check the column list of DataFrame\n",
        "print(\"The dataframe colums are:\",info.columns)\n"
      ],
      "execution_count": null,
      "outputs": [
        {
          "output_type": "stream",
          "name": "stdout",
          "text": [
            "The dataframe colums are: Index(['Country', 'CountryID', 'Continent', 'Adolescent fertility rate (%)',\n",
            "       'Adult literacy rate (%)',\n",
            "       'Gross national income per capita (PPP international $)',\n",
            "       'Net primary school enrolment ratio female (%)',\n",
            "       'Net primary school enrolment ratio male (%)',\n",
            "       'Population (in thousands) total'],\n",
            "      dtype='object')\n"
          ]
        }
      ]
    },
    {
      "cell_type": "code",
      "metadata": {
        "colab": {
          "base_uri": "https://localhost:8080/"
        },
        "id": "qbrVBjQvPwbC",
        "outputId": "0edc168f-3563-413d-9f8e-52a726e7c844"
      },
      "source": [
        "##The datatype of columsn\n",
        "print(\"The datatype of columns:\",info.dtypes)"
      ],
      "execution_count": null,
      "outputs": [
        {
          "output_type": "stream",
          "name": "stdout",
          "text": [
            "The datatype of columns: Country                                                    object\n",
            "CountryID                                                   int64\n",
            "Continent                                                   int64\n",
            "Adolescent fertility rate (%)                             float64\n",
            "Adult literacy rate (%)                                   float64\n",
            "Gross national income per capita (PPP international $)    float64\n",
            "Net primary school enrolment ratio female (%)             float64\n",
            "Net primary school enrolment ratio male (%)               float64\n",
            "Population (in thousands) total                           float64\n",
            "dtype: object\n"
          ]
        }
      ]
    },
    {
      "cell_type": "code",
      "metadata": {
        "colab": {
          "base_uri": "https://localhost:8080/"
        },
        "id": "hqfmwq-kP8ve",
        "outputId": "8b622f6d-52ab-4e47-88ae-5209526c98fa"
      },
      "source": [
        "##Reading single column of our dataframe\n",
        "country_column = info['Country']\n",
        "##slicing the country column\n",
        "country_column[-5:]                                                 "
      ],
      "execution_count": null,
      "outputs": [
        {
          "output_type": "execute_result",
          "data": {
            "text/plain": [
              "197               Vietnam\n",
              "198    West Bank and Gaza\n",
              "199                 Yemen\n",
              "200                Zambia\n",
              "201              Zimbabwe\n",
              "Name: Country, dtype: object"
            ]
          },
          "metadata": {},
          "execution_count": 22
        }
      ]
    },
    {
      "cell_type": "code",
      "metadata": {
        "colab": {
          "base_uri": "https://localhost:8080/",
          "height": 206
        },
        "id": "2pIs4mzAQjIW",
        "outputId": "ce6417c1-2ea3-41a6-c4fe-ccdb720a47ed"
      },
      "source": [
        "### selecting multiple columns \n",
        " filtered_colums=info[['CountryID','Country','Continent','Adolescent fertility rate (%)','Adult literacy rate (%)']]\n",
        "# Show top 5 records\n",
        "filtered_colums.head()"
      ],
      "execution_count": null,
      "outputs": [
        {
          "output_type": "execute_result",
          "data": {
            "text/html": [
              "<div>\n",
              "<style scoped>\n",
              "    .dataframe tbody tr th:only-of-type {\n",
              "        vertical-align: middle;\n",
              "    }\n",
              "\n",
              "    .dataframe tbody tr th {\n",
              "        vertical-align: top;\n",
              "    }\n",
              "\n",
              "    .dataframe thead th {\n",
              "        text-align: right;\n",
              "    }\n",
              "</style>\n",
              "<table border=\"1\" class=\"dataframe\">\n",
              "  <thead>\n",
              "    <tr style=\"text-align: right;\">\n",
              "      <th></th>\n",
              "      <th>CountryID</th>\n",
              "      <th>Country</th>\n",
              "      <th>Continent</th>\n",
              "      <th>Adolescent fertility rate (%)</th>\n",
              "      <th>Adult literacy rate (%)</th>\n",
              "    </tr>\n",
              "  </thead>\n",
              "  <tbody>\n",
              "    <tr>\n",
              "      <th>0</th>\n",
              "      <td>1</td>\n",
              "      <td>Afghanistan</td>\n",
              "      <td>1</td>\n",
              "      <td>151.0</td>\n",
              "      <td>28.0</td>\n",
              "    </tr>\n",
              "    <tr>\n",
              "      <th>1</th>\n",
              "      <td>2</td>\n",
              "      <td>Albania</td>\n",
              "      <td>2</td>\n",
              "      <td>27.0</td>\n",
              "      <td>98.7</td>\n",
              "    </tr>\n",
              "    <tr>\n",
              "      <th>2</th>\n",
              "      <td>3</td>\n",
              "      <td>Algeria</td>\n",
              "      <td>3</td>\n",
              "      <td>6.0</td>\n",
              "      <td>69.9</td>\n",
              "    </tr>\n",
              "    <tr>\n",
              "      <th>3</th>\n",
              "      <td>4</td>\n",
              "      <td>Andorra</td>\n",
              "      <td>2</td>\n",
              "      <td>NaN</td>\n",
              "      <td>NaN</td>\n",
              "    </tr>\n",
              "    <tr>\n",
              "      <th>4</th>\n",
              "      <td>5</td>\n",
              "      <td>Angola</td>\n",
              "      <td>3</td>\n",
              "      <td>146.0</td>\n",
              "      <td>67.4</td>\n",
              "    </tr>\n",
              "  </tbody>\n",
              "</table>\n",
              "</div>"
            ],
            "text/plain": [
              "   CountryID  ... Adult literacy rate (%)\n",
              "0          1  ...                    28.0\n",
              "1          2  ...                    98.7\n",
              "2          3  ...                    69.9\n",
              "3          4  ...                     NaN\n",
              "4          5  ...                    67.4\n",
              "\n",
              "[5 rows x 5 columns]"
            ]
          },
          "metadata": {},
          "execution_count": 28
        }
      ]
    },
    {
      "cell_type": "code",
      "metadata": {
        "colab": {
          "base_uri": "https://localhost:8080/",
          "height": 237
        },
        "id": "e5EIN24xRoFn",
        "outputId": "f56216de-7e71-4396-9bb0-f27561fefe1b"
      },
      "source": [
        "# Select rows using index \n",
        "filtered_colums[4: 10]"
      ],
      "execution_count": null,
      "outputs": [
        {
          "output_type": "execute_result",
          "data": {
            "text/html": [
              "<div>\n",
              "<style scoped>\n",
              "    .dataframe tbody tr th:only-of-type {\n",
              "        vertical-align: middle;\n",
              "    }\n",
              "\n",
              "    .dataframe tbody tr th {\n",
              "        vertical-align: top;\n",
              "    }\n",
              "\n",
              "    .dataframe thead th {\n",
              "        text-align: right;\n",
              "    }\n",
              "</style>\n",
              "<table border=\"1\" class=\"dataframe\">\n",
              "  <thead>\n",
              "    <tr style=\"text-align: right;\">\n",
              "      <th></th>\n",
              "      <th>CountryID</th>\n",
              "      <th>Country</th>\n",
              "      <th>Continent</th>\n",
              "      <th>Adolescent fertility rate (%)</th>\n",
              "      <th>Adult literacy rate (%)</th>\n",
              "    </tr>\n",
              "  </thead>\n",
              "  <tbody>\n",
              "    <tr>\n",
              "      <th>4</th>\n",
              "      <td>5</td>\n",
              "      <td>Angola</td>\n",
              "      <td>3</td>\n",
              "      <td>146.0</td>\n",
              "      <td>67.4</td>\n",
              "    </tr>\n",
              "    <tr>\n",
              "      <th>5</th>\n",
              "      <td>6</td>\n",
              "      <td>Antigua and Barbuda</td>\n",
              "      <td>4</td>\n",
              "      <td>NaN</td>\n",
              "      <td>NaN</td>\n",
              "    </tr>\n",
              "    <tr>\n",
              "      <th>6</th>\n",
              "      <td>7</td>\n",
              "      <td>Argentina</td>\n",
              "      <td>5</td>\n",
              "      <td>62.0</td>\n",
              "      <td>97.2</td>\n",
              "    </tr>\n",
              "    <tr>\n",
              "      <th>7</th>\n",
              "      <td>8</td>\n",
              "      <td>Armenia</td>\n",
              "      <td>2</td>\n",
              "      <td>30.0</td>\n",
              "      <td>99.4</td>\n",
              "    </tr>\n",
              "    <tr>\n",
              "      <th>8</th>\n",
              "      <td>9</td>\n",
              "      <td>Australia</td>\n",
              "      <td>6</td>\n",
              "      <td>16.0</td>\n",
              "      <td>NaN</td>\n",
              "    </tr>\n",
              "    <tr>\n",
              "      <th>9</th>\n",
              "      <td>10</td>\n",
              "      <td>Austria</td>\n",
              "      <td>2</td>\n",
              "      <td>14.0</td>\n",
              "      <td>NaN</td>\n",
              "    </tr>\n",
              "  </tbody>\n",
              "</table>\n",
              "</div>"
            ],
            "text/plain": [
              "   CountryID  ... Adult literacy rate (%)\n",
              "4          5  ...                    67.4\n",
              "5          6  ...                     NaN\n",
              "6          7  ...                    97.2\n",
              "7          8  ...                    99.4\n",
              "8          9  ...                     NaN\n",
              "9         10  ...                     NaN\n",
              "\n",
              "[6 rows x 5 columns]"
            ]
          },
          "metadata": {},
          "execution_count": 33
        }
      ]
    },
    {
      "cell_type": "code",
      "metadata": {
        "id": "KbidhtRODg1l",
        "colab": {
          "base_uri": "https://localhost:8080/",
          "height": 334
        },
        "outputId": "3b69813c-04cd-4483-c5d3-43af971ce23c"
      },
      "source": [
        "## Pandas DataFrames : Pandas dataframe has a lot of functions which can describe the data \n",
        "##describe function :This method returns a small table with descriptive statistics.\n",
        "info.describe()"
      ],
      "execution_count": null,
      "outputs": [
        {
          "output_type": "execute_result",
          "data": {
            "text/html": [
              "<div>\n",
              "<style scoped>\n",
              "    .dataframe tbody tr th:only-of-type {\n",
              "        vertical-align: middle;\n",
              "    }\n",
              "\n",
              "    .dataframe tbody tr th {\n",
              "        vertical-align: top;\n",
              "    }\n",
              "\n",
              "    .dataframe thead th {\n",
              "        text-align: right;\n",
              "    }\n",
              "</style>\n",
              "<table border=\"1\" class=\"dataframe\">\n",
              "  <thead>\n",
              "    <tr style=\"text-align: right;\">\n",
              "      <th></th>\n",
              "      <th>CountryID</th>\n",
              "      <th>Continent</th>\n",
              "      <th>Adolescent fertility rate (%)</th>\n",
              "      <th>Adult literacy rate (%)</th>\n",
              "      <th>Gross national income per capita (PPP international $)</th>\n",
              "      <th>Net primary school enrolment ratio female (%)</th>\n",
              "      <th>Net primary school enrolment ratio male (%)</th>\n",
              "      <th>Population (in thousands) total</th>\n",
              "    </tr>\n",
              "  </thead>\n",
              "  <tbody>\n",
              "    <tr>\n",
              "      <th>count</th>\n",
              "      <td>202.000000</td>\n",
              "      <td>202.000000</td>\n",
              "      <td>177.000000</td>\n",
              "      <td>131.000000</td>\n",
              "      <td>178.000000</td>\n",
              "      <td>179.000000</td>\n",
              "      <td>179.000000</td>\n",
              "      <td>1.890000e+02</td>\n",
              "    </tr>\n",
              "    <tr>\n",
              "      <th>mean</th>\n",
              "      <td>101.500000</td>\n",
              "      <td>3.579208</td>\n",
              "      <td>59.457627</td>\n",
              "      <td>78.871756</td>\n",
              "      <td>11250.112360</td>\n",
              "      <td>84.033520</td>\n",
              "      <td>85.698324</td>\n",
              "      <td>3.409964e+04</td>\n",
              "    </tr>\n",
              "    <tr>\n",
              "      <th>std</th>\n",
              "      <td>58.456537</td>\n",
              "      <td>1.808263</td>\n",
              "      <td>49.105286</td>\n",
              "      <td>20.415760</td>\n",
              "      <td>12586.753417</td>\n",
              "      <td>17.788047</td>\n",
              "      <td>15.451212</td>\n",
              "      <td>1.318377e+05</td>\n",
              "    </tr>\n",
              "    <tr>\n",
              "      <th>min</th>\n",
              "      <td>1.000000</td>\n",
              "      <td>1.000000</td>\n",
              "      <td>0.000000</td>\n",
              "      <td>23.600000</td>\n",
              "      <td>260.000000</td>\n",
              "      <td>6.000000</td>\n",
              "      <td>11.000000</td>\n",
              "      <td>2.000000e+00</td>\n",
              "    </tr>\n",
              "    <tr>\n",
              "      <th>25%</th>\n",
              "      <td>51.250000</td>\n",
              "      <td>2.000000</td>\n",
              "      <td>19.000000</td>\n",
              "      <td>68.400000</td>\n",
              "      <td>2112.500000</td>\n",
              "      <td>79.000000</td>\n",
              "      <td>79.500000</td>\n",
              "      <td>1.328000e+03</td>\n",
              "    </tr>\n",
              "    <tr>\n",
              "      <th>50%</th>\n",
              "      <td>101.500000</td>\n",
              "      <td>3.000000</td>\n",
              "      <td>46.000000</td>\n",
              "      <td>86.500000</td>\n",
              "      <td>6175.000000</td>\n",
              "      <td>90.000000</td>\n",
              "      <td>90.000000</td>\n",
              "      <td>6.640000e+03</td>\n",
              "    </tr>\n",
              "    <tr>\n",
              "      <th>75%</th>\n",
              "      <td>151.750000</td>\n",
              "      <td>5.000000</td>\n",
              "      <td>91.000000</td>\n",
              "      <td>95.300000</td>\n",
              "      <td>14502.500000</td>\n",
              "      <td>96.000000</td>\n",
              "      <td>96.000000</td>\n",
              "      <td>2.097100e+04</td>\n",
              "    </tr>\n",
              "    <tr>\n",
              "      <th>max</th>\n",
              "      <td>202.000000</td>\n",
              "      <td>7.000000</td>\n",
              "      <td>199.000000</td>\n",
              "      <td>99.800000</td>\n",
              "      <td>60870.000000</td>\n",
              "      <td>100.000000</td>\n",
              "      <td>100.000000</td>\n",
              "      <td>1.328474e+06</td>\n",
              "    </tr>\n",
              "  </tbody>\n",
              "</table>\n",
              "</div>"
            ],
            "text/plain": [
              "        CountryID  ...  Population (in thousands) total\n",
              "count  202.000000  ...                     1.890000e+02\n",
              "mean   101.500000  ...                     3.409964e+04\n",
              "std     58.456537  ...                     1.318377e+05\n",
              "min      1.000000  ...                     2.000000e+00\n",
              "25%     51.250000  ...                     1.328000e+03\n",
              "50%    101.500000  ...                     6.640000e+03\n",
              "75%    151.750000  ...                     2.097100e+04\n",
              "max    202.000000  ...                     1.328474e+06\n",
              "\n",
              "[8 rows x 8 columns]"
            ]
          },
          "metadata": {},
          "execution_count": 40
        }
      ]
    },
    {
      "cell_type": "code",
      "metadata": {
        "id": "DLJ6OU0PDy6B",
        "colab": {
          "base_uri": "https://localhost:8080/"
        },
        "outputId": "5ec49bfa-d3b0-4313-99a6-b73bebef4e01"
      },
      "source": [
        "##count function \n",
        "info.count()"
      ],
      "execution_count": null,
      "outputs": [
        {
          "output_type": "execute_result",
          "data": {
            "text/plain": [
              "Country                                                   202\n",
              "CountryID                                                 202\n",
              "Continent                                                 202\n",
              "Adolescent fertility rate (%)                             177\n",
              "Adult literacy rate (%)                                   131\n",
              "Gross national income per capita (PPP international $)    178\n",
              "Net primary school enrolment ratio female (%)             179\n",
              "Net primary school enrolment ratio male (%)               179\n",
              "Population (in thousands) total                           189\n",
              "dtype: int64"
            ]
          },
          "metadata": {},
          "execution_count": 41
        }
      ]
    },
    {
      "cell_type": "code",
      "metadata": {
        "id": "U9NRrYu6D2--",
        "colab": {
          "base_uri": "https://localhost:8080/"
        },
        "outputId": "748d5c82-db85-4f6a-ed3e-2c7f6a2b1ec4"
      },
      "source": [
        "##mad function :calculates the mean absolute deviation\n",
        "info.mad()"
      ],
      "execution_count": null,
      "outputs": [
        {
          "output_type": "execute_result",
          "data": {
            "text/plain": [
              "CountryID                                                    50.500000\n",
              "Continent                                                     1.608960\n",
              "Adolescent fertility rate (%)                                40.604616\n",
              "Adult literacy rate (%)                                      16.556401\n",
              "Gross national income per capita (PPP international $)     9600.489837\n",
              "Net primary school enrolment ratio female (%)                13.094348\n",
              "Net primary school enrolment ratio male (%)                  11.304017\n",
              "Population (in thousands) total                           44131.698553\n",
              "dtype: float64"
            ]
          },
          "metadata": {},
          "execution_count": 42
        }
      ]
    },
    {
      "cell_type": "code",
      "metadata": {
        "colab": {
          "base_uri": "https://localhost:8080/"
        },
        "id": "vXzpVgRiEBd2",
        "outputId": "4f99b54f-e695-43cc-ec61-65eae951f3d6"
      },
      "source": [
        "##Median function : calculates the median \n",
        "info.median()"
      ],
      "execution_count": null,
      "outputs": [
        {
          "output_type": "execute_result",
          "data": {
            "text/plain": [
              "CountryID                                                  101.5\n",
              "Continent                                                    3.0\n",
              "Adolescent fertility rate (%)                               46.0\n",
              "Adult literacy rate (%)                                     86.5\n",
              "Gross national income per capita (PPP international $)    6175.0\n",
              "Net primary school enrolment ratio female (%)               90.0\n",
              "Net primary school enrolment ratio male (%)                 90.0\n",
              "Population (in thousands) total                           6640.0\n",
              "dtype: float64"
            ]
          },
          "metadata": {},
          "execution_count": 43
        }
      ]
    },
    {
      "cell_type": "code",
      "metadata": {
        "colab": {
          "base_uri": "https://localhost:8080/"
        },
        "id": "kXCV7VTDEKUW",
        "outputId": "a35efefc-baf2-4ac4-f7f4-243fab8469cb"
      },
      "source": [
        "##min function  : returns the minimum number of the each colum \n",
        "info.min()"
      ],
      "execution_count": null,
      "outputs": [
        {
          "output_type": "execute_result",
          "data": {
            "text/plain": [
              "Country                                                   Afghanistan\n",
              "CountryID                                                           1\n",
              "Continent                                                           1\n",
              "Adolescent fertility rate (%)                                       0\n",
              "Adult literacy rate (%)                                          23.6\n",
              "Gross national income per capita (PPP international $)            260\n",
              "Net primary school enrolment ratio female (%)                       6\n",
              "Net primary school enrolment ratio male (%)                        11\n",
              "Population (in thousands) total                                     2\n",
              "dtype: object"
            ]
          },
          "metadata": {},
          "execution_count": 44
        }
      ]
    },
    {
      "cell_type": "code",
      "metadata": {
        "id": "WNgi32zpEXa-",
        "colab": {
          "base_uri": "https://localhost:8080/"
        },
        "outputId": "8c9d478e-4a4c-4303-efd8-12568df849c0"
      },
      "source": [
        "##max : returns the maxim value \n",
        "info.max()"
      ],
      "execution_count": null,
      "outputs": [
        {
          "output_type": "execute_result",
          "data": {
            "text/plain": [
              "Country                                                      Zimbabwe\n",
              "CountryID                                                         202\n",
              "Continent                                                           7\n",
              "Adolescent fertility rate (%)                                     199\n",
              "Adult literacy rate (%)                                          99.8\n",
              "Gross national income per capita (PPP international $)          60870\n",
              "Net primary school enrolment ratio female (%)                     100\n",
              "Net primary school enrolment ratio male (%)                       100\n",
              "Population (in thousands) total                           1.32847e+06\n",
              "dtype: object"
            ]
          },
          "metadata": {},
          "execution_count": 45
        }
      ]
    },
    {
      "cell_type": "code",
      "metadata": {
        "id": "pchvwaJYEbvU"
      },
      "source": [
        "##mode : returns the mode which is the most frequently occuring value\n",
        "info.mode()"
      ],
      "execution_count": null,
      "outputs": []
    },
    {
      "cell_type": "code",
      "metadata": {
        "id": "0Gzmynl0Egxe",
        "colab": {
          "base_uri": "https://localhost:8080/"
        },
        "outputId": "3386de4d-01c5-46c1-a1e8-b637ee961c88"
      },
      "source": [
        "##var function :it returns the variance.\n",
        "info.var()"
      ],
      "execution_count": null,
      "outputs": [
        {
          "output_type": "execute_result",
          "data": {
            "text/plain": [
              "CountryID                                                 3.417167e+03\n",
              "Continent                                                 3.269814e+00\n",
              "Adolescent fertility rate (%)                             2.411329e+03\n",
              "Adult literacy rate (%)                                   4.168033e+02\n",
              "Gross national income per capita (PPP international $)    1.584264e+08\n",
              "Net primary school enrolment ratio female (%)             3.164146e+02\n",
              "Net primary school enrolment ratio male (%)               2.387399e+02\n",
              "Population (in thousands) total                           1.738118e+10\n",
              "dtype: float64"
            ]
          },
          "metadata": {},
          "execution_count": 47
        }
      ]
    },
    {
      "cell_type": "code",
      "metadata": {
        "id": "fJ5HIqp8TNJM",
        "colab": {
          "base_uri": "https://localhost:8080/"
        },
        "outputId": "d6d687b0-41e2-4c14-9d30-78e1909d085f"
      },
      "source": [
        "##skew This method returns skewness. Skewness is indicative of the distribution\n",
        "info.skew()"
      ],
      "execution_count": 82,
      "outputs": [
        {
          "output_type": "execute_result",
          "data": {
            "text/plain": [
              "CountryID                                                 0.000000\n",
              "Continent                                                 0.319309\n",
              "Adolescent fertility rate (%)                             0.929544\n",
              "Adult literacy rate (%)                                  -1.112218\n",
              "Gross national income per capita (PPP international $)    1.576014\n",
              "Net primary school enrolment ratio female (%)            -1.827949\n",
              "Net primary school enrolment ratio male (%)              -1.954909\n",
              "Population (in thousands) total                           8.445945\n",
              "dtype: float64"
            ]
          },
          "metadata": {},
          "execution_count": 82
        }
      ]
    },
    {
      "cell_type": "code",
      "metadata": {
        "colab": {
          "base_uri": "https://localhost:8080/"
        },
        "id": "hNzViz9ebmhC",
        "outputId": "f91b6ba3-03bc-49dd-afb5-61b1d0f0595a"
      },
      "source": [
        "##Shape function : u can know the number of colums and rows in your data \n",
        "print (\"The shape of the data:\",info.shape)"
      ],
      "execution_count": 83,
      "outputs": [
        {
          "output_type": "stream",
          "name": "stdout",
          "text": [
            "The shape of the data: (202, 9)\n"
          ]
        }
      ]
    },
    {
      "cell_type": "code",
      "metadata": {
        "id": "z02TeUGsUrur"
      },
      "source": [
        "# filter rows  using  the boolean expression\n",
        "country_filter = info[info['Country']=='Afghanistan']\n",
        "print(country_filter.shape)\n",
        "country_filter.mean()"
      ],
      "execution_count": null,
      "outputs": []
    },
    {
      "cell_type": "code",
      "metadata": {
        "colab": {
          "base_uri": "https://localhost:8080/",
          "height": 507
        },
        "id": "x5MWIMq-YCTX",
        "outputId": "f2835b24-664b-47e7-8139-d9234d27e8c0"
      },
      "source": [
        "# Group By DataFrame on the basis of Continent column\n",
        "info.groupby('CountryID').mean()\n"
      ],
      "execution_count": 67,
      "outputs": [
        {
          "output_type": "execute_result",
          "data": {
            "text/html": [
              "<div>\n",
              "<style scoped>\n",
              "    .dataframe tbody tr th:only-of-type {\n",
              "        vertical-align: middle;\n",
              "    }\n",
              "\n",
              "    .dataframe tbody tr th {\n",
              "        vertical-align: top;\n",
              "    }\n",
              "\n",
              "    .dataframe thead th {\n",
              "        text-align: right;\n",
              "    }\n",
              "</style>\n",
              "<table border=\"1\" class=\"dataframe\">\n",
              "  <thead>\n",
              "    <tr style=\"text-align: right;\">\n",
              "      <th></th>\n",
              "      <th>Continent</th>\n",
              "      <th>Adolescent fertility rate (%)</th>\n",
              "      <th>Adult literacy rate (%)</th>\n",
              "      <th>Gross national income per capita (PPP international $)</th>\n",
              "      <th>Net primary school enrolment ratio female (%)</th>\n",
              "      <th>Net primary school enrolment ratio male (%)</th>\n",
              "      <th>Population (in thousands) total</th>\n",
              "    </tr>\n",
              "    <tr>\n",
              "      <th>CountryID</th>\n",
              "      <th></th>\n",
              "      <th></th>\n",
              "      <th></th>\n",
              "      <th></th>\n",
              "      <th></th>\n",
              "      <th></th>\n",
              "      <th></th>\n",
              "    </tr>\n",
              "  </thead>\n",
              "  <tbody>\n",
              "    <tr>\n",
              "      <th>1</th>\n",
              "      <td>1</td>\n",
              "      <td>151.0</td>\n",
              "      <td>28.0</td>\n",
              "      <td>NaN</td>\n",
              "      <td>NaN</td>\n",
              "      <td>NaN</td>\n",
              "      <td>26088.0</td>\n",
              "    </tr>\n",
              "    <tr>\n",
              "      <th>2</th>\n",
              "      <td>2</td>\n",
              "      <td>27.0</td>\n",
              "      <td>98.7</td>\n",
              "      <td>6000.0</td>\n",
              "      <td>93.0</td>\n",
              "      <td>94.0</td>\n",
              "      <td>3172.0</td>\n",
              "    </tr>\n",
              "    <tr>\n",
              "      <th>3</th>\n",
              "      <td>3</td>\n",
              "      <td>6.0</td>\n",
              "      <td>69.9</td>\n",
              "      <td>5940.0</td>\n",
              "      <td>94.0</td>\n",
              "      <td>96.0</td>\n",
              "      <td>33351.0</td>\n",
              "    </tr>\n",
              "    <tr>\n",
              "      <th>4</th>\n",
              "      <td>2</td>\n",
              "      <td>NaN</td>\n",
              "      <td>NaN</td>\n",
              "      <td>NaN</td>\n",
              "      <td>83.0</td>\n",
              "      <td>83.0</td>\n",
              "      <td>74.0</td>\n",
              "    </tr>\n",
              "    <tr>\n",
              "      <th>5</th>\n",
              "      <td>3</td>\n",
              "      <td>146.0</td>\n",
              "      <td>67.4</td>\n",
              "      <td>3890.0</td>\n",
              "      <td>49.0</td>\n",
              "      <td>51.0</td>\n",
              "      <td>16557.0</td>\n",
              "    </tr>\n",
              "    <tr>\n",
              "      <th>...</th>\n",
              "      <td>...</td>\n",
              "      <td>...</td>\n",
              "      <td>...</td>\n",
              "      <td>...</td>\n",
              "      <td>...</td>\n",
              "      <td>...</td>\n",
              "      <td>...</td>\n",
              "    </tr>\n",
              "    <tr>\n",
              "      <th>198</th>\n",
              "      <td>6</td>\n",
              "      <td>25.0</td>\n",
              "      <td>90.3</td>\n",
              "      <td>2310.0</td>\n",
              "      <td>91.0</td>\n",
              "      <td>96.0</td>\n",
              "      <td>86206.0</td>\n",
              "    </tr>\n",
              "    <tr>\n",
              "      <th>199</th>\n",
              "      <td>1</td>\n",
              "      <td>NaN</td>\n",
              "      <td>NaN</td>\n",
              "      <td>NaN</td>\n",
              "      <td>NaN</td>\n",
              "      <td>NaN</td>\n",
              "      <td>NaN</td>\n",
              "    </tr>\n",
              "    <tr>\n",
              "      <th>200</th>\n",
              "      <td>1</td>\n",
              "      <td>83.0</td>\n",
              "      <td>54.1</td>\n",
              "      <td>2090.0</td>\n",
              "      <td>65.0</td>\n",
              "      <td>85.0</td>\n",
              "      <td>21732.0</td>\n",
              "    </tr>\n",
              "    <tr>\n",
              "      <th>201</th>\n",
              "      <td>3</td>\n",
              "      <td>161.0</td>\n",
              "      <td>68.0</td>\n",
              "      <td>1140.0</td>\n",
              "      <td>94.0</td>\n",
              "      <td>90.0</td>\n",
              "      <td>11696.0</td>\n",
              "    </tr>\n",
              "    <tr>\n",
              "      <th>202</th>\n",
              "      <td>3</td>\n",
              "      <td>101.0</td>\n",
              "      <td>89.5</td>\n",
              "      <td>NaN</td>\n",
              "      <td>88.0</td>\n",
              "      <td>87.0</td>\n",
              "      <td>13228.0</td>\n",
              "    </tr>\n",
              "  </tbody>\n",
              "</table>\n",
              "<p>202 rows × 7 columns</p>\n",
              "</div>"
            ],
            "text/plain": [
              "           Continent  ...  Population (in thousands) total\n",
              "CountryID             ...                                 \n",
              "1                  1  ...                          26088.0\n",
              "2                  2  ...                           3172.0\n",
              "3                  3  ...                          33351.0\n",
              "4                  2  ...                             74.0\n",
              "5                  3  ...                          16557.0\n",
              "...              ...  ...                              ...\n",
              "198                6  ...                          86206.0\n",
              "199                1  ...                              NaN\n",
              "200                1  ...                          21732.0\n",
              "201                3  ...                          11696.0\n",
              "202                3  ...                          13228.0\n",
              "\n",
              "[202 rows x 7 columns]"
            ]
          },
          "metadata": {},
          "execution_count": 67
        }
      ]
    },
    {
      "cell_type": "code",
      "metadata": {
        "colab": {
          "base_uri": "https://localhost:8080/",
          "height": 507
        },
        "id": "sv3awYCCYmXV",
        "outputId": "f5ca3415-ef7f-4aa3-d4fd-86e0b3ccf06f"
      },
      "source": [
        "##grouping the dataframe based by Adult literacy rate \n",
        "info.groupby(['CountryID']).mean()['Adolescent fertility rate (%)','Continent']"
      ],
      "execution_count": 72,
      "outputs": [
        {
          "output_type": "execute_result",
          "data": {
            "text/html": [
              "<div>\n",
              "<style scoped>\n",
              "    .dataframe tbody tr th:only-of-type {\n",
              "        vertical-align: middle;\n",
              "    }\n",
              "\n",
              "    .dataframe tbody tr th {\n",
              "        vertical-align: top;\n",
              "    }\n",
              "\n",
              "    .dataframe thead th {\n",
              "        text-align: right;\n",
              "    }\n",
              "</style>\n",
              "<table border=\"1\" class=\"dataframe\">\n",
              "  <thead>\n",
              "    <tr style=\"text-align: right;\">\n",
              "      <th></th>\n",
              "      <th></th>\n",
              "      <th>Adolescent fertility rate (%)</th>\n",
              "      <th>Adult literacy rate (%)</th>\n",
              "      <th>Gross national income per capita (PPP international $)</th>\n",
              "      <th>Net primary school enrolment ratio female (%)</th>\n",
              "      <th>Net primary school enrolment ratio male (%)</th>\n",
              "      <th>Population (in thousands) total</th>\n",
              "    </tr>\n",
              "    <tr>\n",
              "      <th>CountryID</th>\n",
              "      <th>Continent</th>\n",
              "      <th></th>\n",
              "      <th></th>\n",
              "      <th></th>\n",
              "      <th></th>\n",
              "      <th></th>\n",
              "      <th></th>\n",
              "    </tr>\n",
              "  </thead>\n",
              "  <tbody>\n",
              "    <tr>\n",
              "      <th>1</th>\n",
              "      <th>1</th>\n",
              "      <td>151.0</td>\n",
              "      <td>28.0</td>\n",
              "      <td>NaN</td>\n",
              "      <td>NaN</td>\n",
              "      <td>NaN</td>\n",
              "      <td>26088.0</td>\n",
              "    </tr>\n",
              "    <tr>\n",
              "      <th>2</th>\n",
              "      <th>2</th>\n",
              "      <td>27.0</td>\n",
              "      <td>98.7</td>\n",
              "      <td>6000.0</td>\n",
              "      <td>93.0</td>\n",
              "      <td>94.0</td>\n",
              "      <td>3172.0</td>\n",
              "    </tr>\n",
              "    <tr>\n",
              "      <th>3</th>\n",
              "      <th>3</th>\n",
              "      <td>6.0</td>\n",
              "      <td>69.9</td>\n",
              "      <td>5940.0</td>\n",
              "      <td>94.0</td>\n",
              "      <td>96.0</td>\n",
              "      <td>33351.0</td>\n",
              "    </tr>\n",
              "    <tr>\n",
              "      <th>4</th>\n",
              "      <th>2</th>\n",
              "      <td>NaN</td>\n",
              "      <td>NaN</td>\n",
              "      <td>NaN</td>\n",
              "      <td>83.0</td>\n",
              "      <td>83.0</td>\n",
              "      <td>74.0</td>\n",
              "    </tr>\n",
              "    <tr>\n",
              "      <th>5</th>\n",
              "      <th>3</th>\n",
              "      <td>146.0</td>\n",
              "      <td>67.4</td>\n",
              "      <td>3890.0</td>\n",
              "      <td>49.0</td>\n",
              "      <td>51.0</td>\n",
              "      <td>16557.0</td>\n",
              "    </tr>\n",
              "    <tr>\n",
              "      <th>...</th>\n",
              "      <th>...</th>\n",
              "      <td>...</td>\n",
              "      <td>...</td>\n",
              "      <td>...</td>\n",
              "      <td>...</td>\n",
              "      <td>...</td>\n",
              "      <td>...</td>\n",
              "    </tr>\n",
              "    <tr>\n",
              "      <th>198</th>\n",
              "      <th>6</th>\n",
              "      <td>25.0</td>\n",
              "      <td>90.3</td>\n",
              "      <td>2310.0</td>\n",
              "      <td>91.0</td>\n",
              "      <td>96.0</td>\n",
              "      <td>86206.0</td>\n",
              "    </tr>\n",
              "    <tr>\n",
              "      <th>199</th>\n",
              "      <th>1</th>\n",
              "      <td>NaN</td>\n",
              "      <td>NaN</td>\n",
              "      <td>NaN</td>\n",
              "      <td>NaN</td>\n",
              "      <td>NaN</td>\n",
              "      <td>NaN</td>\n",
              "    </tr>\n",
              "    <tr>\n",
              "      <th>200</th>\n",
              "      <th>1</th>\n",
              "      <td>83.0</td>\n",
              "      <td>54.1</td>\n",
              "      <td>2090.0</td>\n",
              "      <td>65.0</td>\n",
              "      <td>85.0</td>\n",
              "      <td>21732.0</td>\n",
              "    </tr>\n",
              "    <tr>\n",
              "      <th>201</th>\n",
              "      <th>3</th>\n",
              "      <td>161.0</td>\n",
              "      <td>68.0</td>\n",
              "      <td>1140.0</td>\n",
              "      <td>94.0</td>\n",
              "      <td>90.0</td>\n",
              "      <td>11696.0</td>\n",
              "    </tr>\n",
              "    <tr>\n",
              "      <th>202</th>\n",
              "      <th>3</th>\n",
              "      <td>101.0</td>\n",
              "      <td>89.5</td>\n",
              "      <td>NaN</td>\n",
              "      <td>88.0</td>\n",
              "      <td>87.0</td>\n",
              "      <td>13228.0</td>\n",
              "    </tr>\n",
              "  </tbody>\n",
              "</table>\n",
              "<p>202 rows × 6 columns</p>\n",
              "</div>"
            ],
            "text/plain": [
              "                     Adolescent fertility rate (%)  ...  Population (in thousands) total\n",
              "CountryID Continent                                 ...                                 \n",
              "1         1                                  151.0  ...                          26088.0\n",
              "2         2                                   27.0  ...                           3172.0\n",
              "3         3                                    6.0  ...                          33351.0\n",
              "4         2                                    NaN  ...                             74.0\n",
              "5         3                                  146.0  ...                          16557.0\n",
              "...                                            ...  ...                              ...\n",
              "198       6                                   25.0  ...                          86206.0\n",
              "199       1                                    NaN  ...                              NaN\n",
              "200       1                                   83.0  ...                          21732.0\n",
              "201       3                                  161.0  ...                          11696.0\n",
              "202       3                                  101.0  ...                          13228.0\n",
              "\n",
              "[202 rows x 6 columns]"
            ]
          },
          "metadata": {},
          "execution_count": 72
        }
      ]
    },
    {
      "cell_type": "code",
      "metadata": {
        "colab": {
          "base_uri": "https://localhost:8080/",
          "height": 507
        },
        "id": "FsK-ZEiEZcCG",
        "outputId": "9908322c-cbee-4be0-a462-28e4a0125c68"
      },
      "source": [
        "##grouping by multiple colums \n",
        "info.groupby(['CountryID','Continent']).mean()"
      ],
      "execution_count": 74,
      "outputs": [
        {
          "output_type": "execute_result",
          "data": {
            "text/html": [
              "<div>\n",
              "<style scoped>\n",
              "    .dataframe tbody tr th:only-of-type {\n",
              "        vertical-align: middle;\n",
              "    }\n",
              "\n",
              "    .dataframe tbody tr th {\n",
              "        vertical-align: top;\n",
              "    }\n",
              "\n",
              "    .dataframe thead th {\n",
              "        text-align: right;\n",
              "    }\n",
              "</style>\n",
              "<table border=\"1\" class=\"dataframe\">\n",
              "  <thead>\n",
              "    <tr style=\"text-align: right;\">\n",
              "      <th></th>\n",
              "      <th></th>\n",
              "      <th>Adolescent fertility rate (%)</th>\n",
              "      <th>Adult literacy rate (%)</th>\n",
              "      <th>Gross national income per capita (PPP international $)</th>\n",
              "      <th>Net primary school enrolment ratio female (%)</th>\n",
              "      <th>Net primary school enrolment ratio male (%)</th>\n",
              "      <th>Population (in thousands) total</th>\n",
              "    </tr>\n",
              "    <tr>\n",
              "      <th>CountryID</th>\n",
              "      <th>Continent</th>\n",
              "      <th></th>\n",
              "      <th></th>\n",
              "      <th></th>\n",
              "      <th></th>\n",
              "      <th></th>\n",
              "      <th></th>\n",
              "    </tr>\n",
              "  </thead>\n",
              "  <tbody>\n",
              "    <tr>\n",
              "      <th>1</th>\n",
              "      <th>1</th>\n",
              "      <td>151.0</td>\n",
              "      <td>28.0</td>\n",
              "      <td>NaN</td>\n",
              "      <td>NaN</td>\n",
              "      <td>NaN</td>\n",
              "      <td>26088.0</td>\n",
              "    </tr>\n",
              "    <tr>\n",
              "      <th>2</th>\n",
              "      <th>2</th>\n",
              "      <td>27.0</td>\n",
              "      <td>98.7</td>\n",
              "      <td>6000.0</td>\n",
              "      <td>93.0</td>\n",
              "      <td>94.0</td>\n",
              "      <td>3172.0</td>\n",
              "    </tr>\n",
              "    <tr>\n",
              "      <th>3</th>\n",
              "      <th>3</th>\n",
              "      <td>6.0</td>\n",
              "      <td>69.9</td>\n",
              "      <td>5940.0</td>\n",
              "      <td>94.0</td>\n",
              "      <td>96.0</td>\n",
              "      <td>33351.0</td>\n",
              "    </tr>\n",
              "    <tr>\n",
              "      <th>4</th>\n",
              "      <th>2</th>\n",
              "      <td>NaN</td>\n",
              "      <td>NaN</td>\n",
              "      <td>NaN</td>\n",
              "      <td>83.0</td>\n",
              "      <td>83.0</td>\n",
              "      <td>74.0</td>\n",
              "    </tr>\n",
              "    <tr>\n",
              "      <th>5</th>\n",
              "      <th>3</th>\n",
              "      <td>146.0</td>\n",
              "      <td>67.4</td>\n",
              "      <td>3890.0</td>\n",
              "      <td>49.0</td>\n",
              "      <td>51.0</td>\n",
              "      <td>16557.0</td>\n",
              "    </tr>\n",
              "    <tr>\n",
              "      <th>...</th>\n",
              "      <th>...</th>\n",
              "      <td>...</td>\n",
              "      <td>...</td>\n",
              "      <td>...</td>\n",
              "      <td>...</td>\n",
              "      <td>...</td>\n",
              "      <td>...</td>\n",
              "    </tr>\n",
              "    <tr>\n",
              "      <th>198</th>\n",
              "      <th>6</th>\n",
              "      <td>25.0</td>\n",
              "      <td>90.3</td>\n",
              "      <td>2310.0</td>\n",
              "      <td>91.0</td>\n",
              "      <td>96.0</td>\n",
              "      <td>86206.0</td>\n",
              "    </tr>\n",
              "    <tr>\n",
              "      <th>199</th>\n",
              "      <th>1</th>\n",
              "      <td>NaN</td>\n",
              "      <td>NaN</td>\n",
              "      <td>NaN</td>\n",
              "      <td>NaN</td>\n",
              "      <td>NaN</td>\n",
              "      <td>NaN</td>\n",
              "    </tr>\n",
              "    <tr>\n",
              "      <th>200</th>\n",
              "      <th>1</th>\n",
              "      <td>83.0</td>\n",
              "      <td>54.1</td>\n",
              "      <td>2090.0</td>\n",
              "      <td>65.0</td>\n",
              "      <td>85.0</td>\n",
              "      <td>21732.0</td>\n",
              "    </tr>\n",
              "    <tr>\n",
              "      <th>201</th>\n",
              "      <th>3</th>\n",
              "      <td>161.0</td>\n",
              "      <td>68.0</td>\n",
              "      <td>1140.0</td>\n",
              "      <td>94.0</td>\n",
              "      <td>90.0</td>\n",
              "      <td>11696.0</td>\n",
              "    </tr>\n",
              "    <tr>\n",
              "      <th>202</th>\n",
              "      <th>3</th>\n",
              "      <td>101.0</td>\n",
              "      <td>89.5</td>\n",
              "      <td>NaN</td>\n",
              "      <td>88.0</td>\n",
              "      <td>87.0</td>\n",
              "      <td>13228.0</td>\n",
              "    </tr>\n",
              "  </tbody>\n",
              "</table>\n",
              "<p>202 rows × 6 columns</p>\n",
              "</div>"
            ],
            "text/plain": [
              "                     Adolescent fertility rate (%)  ...  Population (in thousands) total\n",
              "CountryID Continent                                 ...                                 \n",
              "1         1                                  151.0  ...                          26088.0\n",
              "2         2                                   27.0  ...                           3172.0\n",
              "3         3                                    6.0  ...                          33351.0\n",
              "4         2                                    NaN  ...                             74.0\n",
              "5         3                                  146.0  ...                          16557.0\n",
              "...                                            ...  ...                              ...\n",
              "198       6                                   25.0  ...                          86206.0\n",
              "199       1                                    NaN  ...                              NaN\n",
              "200       1                                   83.0  ...                          21732.0\n",
              "201       3                                  161.0  ...                          11696.0\n",
              "202       3                                  101.0  ...                          13228.0\n",
              "\n",
              "[202 rows x 6 columns]"
            ]
          },
          "metadata": {},
          "execution_count": 74
        }
      ]
    },
    {
      "cell_type": "code",
      "metadata": {
        "colab": {
          "base_uri": "https://localhost:8080/"
        },
        "id": "MevQ6H5tVVwC",
        "outputId": "a4c2a524-400c-447b-dcfb-85f62e64a839"
      },
      "source": [
        "countrya.head()"
      ],
      "execution_count": null,
      "outputs": [
        {
          "output_type": "execute_result",
          "data": {
            "text/plain": [
              "0     True\n",
              "1    False\n",
              "2    False\n",
              "3    False\n",
              "4    False\n",
              "Name: Country, dtype: bool"
            ]
          },
          "metadata": {},
          "execution_count": 57
        }
      ]
    },
    {
      "cell_type": "code",
      "metadata": {
        "colab": {
          "base_uri": "https://localhost:8080/"
        },
        "id": "bGDJfWv5BFTs",
        "outputId": "cf93534d-1d25-4d54-f99b-32a8dd7acd05"
      },
      "source": [
        "d =info.groupby('Continent').mean()['Adult literacy rate (%)']\n",
        "d"
      ],
      "execution_count": null,
      "outputs": [
        {
          "output_type": "execute_result",
          "data": {
            "text/plain": [
              "Continent\n",
              "1    76.900000\n",
              "2    97.911538\n",
              "3    61.690476\n",
              "4    91.600000\n",
              "5    87.940909\n",
              "6    87.607143\n",
              "7    69.812500\n",
              "Name: Adult literacy rate (%), dtype: float64"
            ]
          },
          "metadata": {},
          "execution_count": 59
        }
      ]
    },
    {
      "cell_type": "code",
      "metadata": {
        "colab": {
          "base_uri": "https://localhost:8080/",
          "height": 317
        },
        "id": "DjLhUPL4Bktq",
        "outputId": "bfee7119-15f4-481c-b74a-45d3e209ac2c"
      },
      "source": [
        "d =info.groupby('Continent').sum() \n",
        "d"
      ],
      "execution_count": null,
      "outputs": [
        {
          "output_type": "execute_result",
          "data": {
            "text/html": [
              "<div>\n",
              "<style scoped>\n",
              "    .dataframe tbody tr th:only-of-type {\n",
              "        vertical-align: middle;\n",
              "    }\n",
              "\n",
              "    .dataframe tbody tr th {\n",
              "        vertical-align: top;\n",
              "    }\n",
              "\n",
              "    .dataframe thead th {\n",
              "        text-align: right;\n",
              "    }\n",
              "</style>\n",
              "<table border=\"1\" class=\"dataframe\">\n",
              "  <thead>\n",
              "    <tr style=\"text-align: right;\">\n",
              "      <th></th>\n",
              "      <th>CountryID</th>\n",
              "      <th>Adolescent fertility rate (%)</th>\n",
              "      <th>Adult literacy rate (%)</th>\n",
              "      <th>Gross national income per capita (PPP international $)</th>\n",
              "      <th>Net primary school enrolment ratio female (%)</th>\n",
              "      <th>Net primary school enrolment ratio male (%)</th>\n",
              "      <th>Population (in thousands) total</th>\n",
              "    </tr>\n",
              "    <tr>\n",
              "      <th>Continent</th>\n",
              "      <th></th>\n",
              "      <th></th>\n",
              "      <th></th>\n",
              "      <th></th>\n",
              "      <th></th>\n",
              "      <th></th>\n",
              "      <th></th>\n",
              "    </tr>\n",
              "  </thead>\n",
              "  <tbody>\n",
              "    <tr>\n",
              "      <th>1</th>\n",
              "      <td>2315</td>\n",
              "      <td>746.0</td>\n",
              "      <td>1384.2</td>\n",
              "      <td>253190.0</td>\n",
              "      <td>1630.0</td>\n",
              "      <td>1678.0</td>\n",
              "      <td>336867.0</td>\n",
              "    </tr>\n",
              "    <tr>\n",
              "      <th>2</th>\n",
              "      <td>5117</td>\n",
              "      <td>984.0</td>\n",
              "      <td>2545.7</td>\n",
              "      <td>949300.0</td>\n",
              "      <td>4181.0</td>\n",
              "      <td>4189.0</td>\n",
              "      <td>880241.0</td>\n",
              "    </tr>\n",
              "    <tr>\n",
              "      <th>3</th>\n",
              "      <td>4769</td>\n",
              "      <td>5024.0</td>\n",
              "      <td>2591.0</td>\n",
              "      <td>140320.0</td>\n",
              "      <td>3176.0</td>\n",
              "      <td>3385.0</td>\n",
              "      <td>759147.0</td>\n",
              "    </tr>\n",
              "    <tr>\n",
              "      <th>4</th>\n",
              "      <td>394</td>\n",
              "      <td>248.0</td>\n",
              "      <td>91.6</td>\n",
              "      <td>122620.0</td>\n",
              "      <td>475.0</td>\n",
              "      <td>472.0</td>\n",
              "      <td>441464.0</td>\n",
              "    </tr>\n",
              "    <tr>\n",
              "      <th>5</th>\n",
              "      <td>2938</td>\n",
              "      <td>2103.0</td>\n",
              "      <td>1934.7</td>\n",
              "      <td>207120.0</td>\n",
              "      <td>2585.0</td>\n",
              "      <td>2567.0</td>\n",
              "      <td>453480.0</td>\n",
              "    </tr>\n",
              "    <tr>\n",
              "      <th>6</th>\n",
              "      <td>4243</td>\n",
              "      <td>903.0</td>\n",
              "      <td>1226.5</td>\n",
              "      <td>304180.0</td>\n",
              "      <td>2226.0</td>\n",
              "      <td>2249.0</td>\n",
              "      <td>714480.0</td>\n",
              "    </tr>\n",
              "    <tr>\n",
              "      <th>7</th>\n",
              "      <td>727</td>\n",
              "      <td>516.0</td>\n",
              "      <td>558.5</td>\n",
              "      <td>25790.0</td>\n",
              "      <td>769.0</td>\n",
              "      <td>800.0</td>\n",
              "      <td>2859153.0</td>\n",
              "    </tr>\n",
              "  </tbody>\n",
              "</table>\n",
              "</div>"
            ],
            "text/plain": [
              "           CountryID  ...  Population (in thousands) total\n",
              "Continent             ...                                 \n",
              "1               2315  ...                         336867.0\n",
              "2               5117  ...                         880241.0\n",
              "3               4769  ...                         759147.0\n",
              "4                394  ...                         441464.0\n",
              "5               2938  ...                         453480.0\n",
              "6               4243  ...                         714480.0\n",
              "7                727  ...                        2859153.0\n",
              "\n",
              "[7 rows x 7 columns]"
            ]
          },
          "metadata": {},
          "execution_count": 64
        }
      ]
    },
    {
      "cell_type": "code",
      "metadata": {
        "colab": {
          "base_uri": "https://localhost:8080/",
          "height": 257
        },
        "id": "lOQgilqZ6nAs",
        "outputId": "51a3a7ee-96c4-4de6-f638-6e41e46d87ea"
      },
      "source": [
        "##showing last rows\n",
        "info.tail()"
      ],
      "execution_count": null,
      "outputs": [
        {
          "output_type": "execute_result",
          "data": {
            "text/html": [
              "<div>\n",
              "<style scoped>\n",
              "    .dataframe tbody tr th:only-of-type {\n",
              "        vertical-align: middle;\n",
              "    }\n",
              "\n",
              "    .dataframe tbody tr th {\n",
              "        vertical-align: top;\n",
              "    }\n",
              "\n",
              "    .dataframe thead th {\n",
              "        text-align: right;\n",
              "    }\n",
              "</style>\n",
              "<table border=\"1\" class=\"dataframe\">\n",
              "  <thead>\n",
              "    <tr style=\"text-align: right;\">\n",
              "      <th></th>\n",
              "      <th>Country</th>\n",
              "      <th>CountryID</th>\n",
              "      <th>Continent</th>\n",
              "      <th>Adolescent fertility rate (%)</th>\n",
              "      <th>Adult literacy rate (%)</th>\n",
              "      <th>Gross national income per capita (PPP international $)</th>\n",
              "      <th>Net primary school enrolment ratio female (%)</th>\n",
              "      <th>Net primary school enrolment ratio male (%)</th>\n",
              "      <th>Population (in thousands) total</th>\n",
              "    </tr>\n",
              "  </thead>\n",
              "  <tbody>\n",
              "    <tr>\n",
              "      <th>197</th>\n",
              "      <td>Vietnam</td>\n",
              "      <td>198</td>\n",
              "      <td>6</td>\n",
              "      <td>25.0</td>\n",
              "      <td>90.3</td>\n",
              "      <td>2310.0</td>\n",
              "      <td>91.0</td>\n",
              "      <td>96.0</td>\n",
              "      <td>86206.0</td>\n",
              "    </tr>\n",
              "    <tr>\n",
              "      <th>198</th>\n",
              "      <td>West Bank and Gaza</td>\n",
              "      <td>199</td>\n",
              "      <td>1</td>\n",
              "      <td>NaN</td>\n",
              "      <td>NaN</td>\n",
              "      <td>NaN</td>\n",
              "      <td>NaN</td>\n",
              "      <td>NaN</td>\n",
              "      <td>NaN</td>\n",
              "    </tr>\n",
              "    <tr>\n",
              "      <th>199</th>\n",
              "      <td>Yemen</td>\n",
              "      <td>200</td>\n",
              "      <td>1</td>\n",
              "      <td>83.0</td>\n",
              "      <td>54.1</td>\n",
              "      <td>2090.0</td>\n",
              "      <td>65.0</td>\n",
              "      <td>85.0</td>\n",
              "      <td>21732.0</td>\n",
              "    </tr>\n",
              "    <tr>\n",
              "      <th>200</th>\n",
              "      <td>Zambia</td>\n",
              "      <td>201</td>\n",
              "      <td>3</td>\n",
              "      <td>161.0</td>\n",
              "      <td>68.0</td>\n",
              "      <td>1140.0</td>\n",
              "      <td>94.0</td>\n",
              "      <td>90.0</td>\n",
              "      <td>11696.0</td>\n",
              "    </tr>\n",
              "    <tr>\n",
              "      <th>201</th>\n",
              "      <td>Zimbabwe</td>\n",
              "      <td>202</td>\n",
              "      <td>3</td>\n",
              "      <td>101.0</td>\n",
              "      <td>89.5</td>\n",
              "      <td>NaN</td>\n",
              "      <td>88.0</td>\n",
              "      <td>87.0</td>\n",
              "      <td>13228.0</td>\n",
              "    </tr>\n",
              "  </tbody>\n",
              "</table>\n",
              "</div>"
            ],
            "text/plain": [
              "                Country  ...  Population (in thousands) total\n",
              "197             Vietnam  ...                          86206.0\n",
              "198  West Bank and Gaza  ...                              NaN\n",
              "199               Yemen  ...                          21732.0\n",
              "200              Zambia  ...                          11696.0\n",
              "201            Zimbabwe  ...                          13228.0\n",
              "\n",
              "[5 rows x 9 columns]"
            ]
          },
          "metadata": {},
          "execution_count": 45
        }
      ]
    },
    {
      "cell_type": "code",
      "metadata": {
        "id": "-heJ2i8g6dlB"
      },
      "source": [
        ""
      ],
      "execution_count": null,
      "outputs": []
    },
    {
      "cell_type": "code",
      "metadata": {
        "colab": {
          "base_uri": "https://localhost:8080/"
        },
        "id": "2yhz4nVH3JqR",
        "outputId": "3b985e36-a186-4de6-a4d1-db322d39a7b2"
      },
      "source": [
        "country_series = info['Country']\n",
        "type(country_series)"
      ],
      "execution_count": null,
      "outputs": [
        {
          "output_type": "execute_result",
          "data": {
            "text/plain": [
              "pandas.core.series.Series"
            ]
          },
          "metadata": {},
          "execution_count": 27
        }
      ]
    },
    {
      "cell_type": "markdown",
      "metadata": {
        "id": "SMFlsrfbb8ji"
      },
      "source": [
        "Day two : Pandas Joints\n",
        "\n",
        "Here we have two dataset \n",
        "1. Dest dataset \n",
        "2. Tips dataset"
      ]
    },
    {
      "cell_type": "code",
      "metadata": {
        "colab": {
          "base_uri": "https://localhost:8080/",
          "height": 143
        },
        "id": "6QB9hRwycJFy",
        "outputId": "3c71c639-fa2b-4d49-a76c-be4d47800174"
      },
      "source": [
        "## Louading destdataset\n",
        "dest_dataset = pd.read_csv(\"dest.csv\")\n",
        "dest_dataset.head()"
      ],
      "execution_count": 85,
      "outputs": [
        {
          "output_type": "execute_result",
          "data": {
            "text/html": [
              "<div>\n",
              "<style scoped>\n",
              "    .dataframe tbody tr th:only-of-type {\n",
              "        vertical-align: middle;\n",
              "    }\n",
              "\n",
              "    .dataframe tbody tr th {\n",
              "        vertical-align: top;\n",
              "    }\n",
              "\n",
              "    .dataframe thead th {\n",
              "        text-align: right;\n",
              "    }\n",
              "</style>\n",
              "<table border=\"1\" class=\"dataframe\">\n",
              "  <thead>\n",
              "    <tr style=\"text-align: right;\">\n",
              "      <th></th>\n",
              "      <th>EmpNr</th>\n",
              "      <th>Dest</th>\n",
              "    </tr>\n",
              "  </thead>\n",
              "  <tbody>\n",
              "    <tr>\n",
              "      <th>0</th>\n",
              "      <td>5</td>\n",
              "      <td>The Hague</td>\n",
              "    </tr>\n",
              "    <tr>\n",
              "      <th>1</th>\n",
              "      <td>3</td>\n",
              "      <td>Amsterdam</td>\n",
              "    </tr>\n",
              "    <tr>\n",
              "      <th>2</th>\n",
              "      <td>9</td>\n",
              "      <td>Rotterdam</td>\n",
              "    </tr>\n",
              "  </tbody>\n",
              "</table>\n",
              "</div>"
            ],
            "text/plain": [
              "   EmpNr       Dest\n",
              "0      5  The Hague\n",
              "1      3  Amsterdam\n",
              "2      9  Rotterdam"
            ]
          },
          "metadata": {},
          "execution_count": 85
        }
      ]
    },
    {
      "cell_type": "code",
      "metadata": {
        "colab": {
          "base_uri": "https://localhost:8080/",
          "height": 143
        },
        "id": "povyN5_Bcd7D",
        "outputId": "ded8f252-c147-4c3c-d227-0a47bac2e23a"
      },
      "source": [
        "### Louading tips dataset\n",
        "tips_dataset = pd.read_csv(\"tips.csv\")\n",
        "tips_dataset.head()"
      ],
      "execution_count": 88,
      "outputs": [
        {
          "output_type": "execute_result",
          "data": {
            "text/html": [
              "<div>\n",
              "<style scoped>\n",
              "    .dataframe tbody tr th:only-of-type {\n",
              "        vertical-align: middle;\n",
              "    }\n",
              "\n",
              "    .dataframe tbody tr th {\n",
              "        vertical-align: top;\n",
              "    }\n",
              "\n",
              "    .dataframe thead th {\n",
              "        text-align: right;\n",
              "    }\n",
              "</style>\n",
              "<table border=\"1\" class=\"dataframe\">\n",
              "  <thead>\n",
              "    <tr style=\"text-align: right;\">\n",
              "      <th></th>\n",
              "      <th>EmpNr</th>\n",
              "      <th>Amount</th>\n",
              "    </tr>\n",
              "  </thead>\n",
              "  <tbody>\n",
              "    <tr>\n",
              "      <th>0</th>\n",
              "      <td>5</td>\n",
              "      <td>10.0</td>\n",
              "    </tr>\n",
              "    <tr>\n",
              "      <th>1</th>\n",
              "      <td>9</td>\n",
              "      <td>5.0</td>\n",
              "    </tr>\n",
              "    <tr>\n",
              "      <th>2</th>\n",
              "      <td>7</td>\n",
              "      <td>2.5</td>\n",
              "    </tr>\n",
              "  </tbody>\n",
              "</table>\n",
              "</div>"
            ],
            "text/plain": [
              "   EmpNr  Amount\n",
              "0      5    10.0\n",
              "1      9     5.0\n",
              "2      7     2.5"
            ]
          },
          "metadata": {},
          "execution_count": 88
        }
      ]
    },
    {
      "cell_type": "code",
      "metadata": {
        "colab": {
          "base_uri": "https://localhost:8080/",
          "height": 112
        },
        "id": "eLQi1u6gc8NO",
        "outputId": "010f417f-72e4-4024-c748-69dbdea5efff"
      },
      "source": [
        "##Joining the dataframe using inner join function \n",
        "inner_join = pd.merge(dest_dataset,tips_dataset, on ='EmpNr',how ='inner')\n",
        "inner_join.head()"
      ],
      "execution_count": 94,
      "outputs": [
        {
          "output_type": "execute_result",
          "data": {
            "text/html": [
              "<div>\n",
              "<style scoped>\n",
              "    .dataframe tbody tr th:only-of-type {\n",
              "        vertical-align: middle;\n",
              "    }\n",
              "\n",
              "    .dataframe tbody tr th {\n",
              "        vertical-align: top;\n",
              "    }\n",
              "\n",
              "    .dataframe thead th {\n",
              "        text-align: right;\n",
              "    }\n",
              "</style>\n",
              "<table border=\"1\" class=\"dataframe\">\n",
              "  <thead>\n",
              "    <tr style=\"text-align: right;\">\n",
              "      <th></th>\n",
              "      <th>EmpNr</th>\n",
              "      <th>Dest</th>\n",
              "      <th>Amount</th>\n",
              "    </tr>\n",
              "  </thead>\n",
              "  <tbody>\n",
              "    <tr>\n",
              "      <th>0</th>\n",
              "      <td>5</td>\n",
              "      <td>The Hague</td>\n",
              "      <td>10.0</td>\n",
              "    </tr>\n",
              "    <tr>\n",
              "      <th>1</th>\n",
              "      <td>9</td>\n",
              "      <td>Rotterdam</td>\n",
              "      <td>5.0</td>\n",
              "    </tr>\n",
              "  </tbody>\n",
              "</table>\n",
              "</div>"
            ],
            "text/plain": [
              "   EmpNr       Dest  Amount\n",
              "0      5  The Hague    10.0\n",
              "1      9  Rotterdam     5.0"
            ]
          },
          "metadata": {},
          "execution_count": 94
        }
      ]
    },
    {
      "cell_type": "code",
      "metadata": {
        "colab": {
          "base_uri": "https://localhost:8080/",
          "height": 175
        },
        "id": "sKYL9HLYrix0",
        "outputId": "df1b70a9-e457-4c43-80fe-5102b98c541b"
      },
      "source": [
        "##outerjoin will return the whole records of dataframe \n",
        "outer_join = pd.merge(dest_dataset,tips_dataset,on ='EmpNr',how='outer')\n",
        "outer_join.head()"
      ],
      "execution_count": 95,
      "outputs": [
        {
          "output_type": "execute_result",
          "data": {
            "text/html": [
              "<div>\n",
              "<style scoped>\n",
              "    .dataframe tbody tr th:only-of-type {\n",
              "        vertical-align: middle;\n",
              "    }\n",
              "\n",
              "    .dataframe tbody tr th {\n",
              "        vertical-align: top;\n",
              "    }\n",
              "\n",
              "    .dataframe thead th {\n",
              "        text-align: right;\n",
              "    }\n",
              "</style>\n",
              "<table border=\"1\" class=\"dataframe\">\n",
              "  <thead>\n",
              "    <tr style=\"text-align: right;\">\n",
              "      <th></th>\n",
              "      <th>EmpNr</th>\n",
              "      <th>Dest</th>\n",
              "      <th>Amount</th>\n",
              "    </tr>\n",
              "  </thead>\n",
              "  <tbody>\n",
              "    <tr>\n",
              "      <th>0</th>\n",
              "      <td>5</td>\n",
              "      <td>The Hague</td>\n",
              "      <td>10.0</td>\n",
              "    </tr>\n",
              "    <tr>\n",
              "      <th>1</th>\n",
              "      <td>3</td>\n",
              "      <td>Amsterdam</td>\n",
              "      <td>NaN</td>\n",
              "    </tr>\n",
              "    <tr>\n",
              "      <th>2</th>\n",
              "      <td>9</td>\n",
              "      <td>Rotterdam</td>\n",
              "      <td>5.0</td>\n",
              "    </tr>\n",
              "    <tr>\n",
              "      <th>3</th>\n",
              "      <td>7</td>\n",
              "      <td>NaN</td>\n",
              "      <td>2.5</td>\n",
              "    </tr>\n",
              "  </tbody>\n",
              "</table>\n",
              "</div>"
            ],
            "text/plain": [
              "   EmpNr       Dest  Amount\n",
              "0      5  The Hague    10.0\n",
              "1      3  Amsterdam     NaN\n",
              "2      9  Rotterdam     5.0\n",
              "3      7        NaN     2.5"
            ]
          },
          "metadata": {},
          "execution_count": 95
        }
      ]
    },
    {
      "cell_type": "code",
      "metadata": {
        "colab": {
          "base_uri": "https://localhost:8080/"
        },
        "id": "6sigz2SLr3rD",
        "outputId": "e8326be0-2b0f-4e15-af1b-b3989f39a5b4"
      },
      "source": [
        "##rightjoin \n",
        "righter_join = pd.merge(dest_dataset,tips_dataset,on='EmpNr',how ='right')\n",
        "righter_join.head()"
      ],
      "execution_count": 97,
      "outputs": [
        {
          "output_type": "execute_result",
          "data": {
            "text/plain": [
              "<bound method NDFrame.head of    EmpNr       Dest  Amount\n",
              "0      5  The Hague    10.0\n",
              "1      9  Rotterdam     5.0\n",
              "2      7        NaN     2.5>"
            ]
          },
          "metadata": {},
          "execution_count": 97
        }
      ]
    },
    {
      "cell_type": "code",
      "metadata": {
        "colab": {
          "base_uri": "https://localhost:8080/",
          "height": 143
        },
        "id": "EIdzPj0YsBwf",
        "outputId": "22d50c1e-ca78-458c-ab90-471aa59325eb"
      },
      "source": [
        "#lefjoin \n",
        "leftjoin = pd.merge(dest_dataset,tips_dataset,on='EmpNr',how ='left')\n",
        "leftjoin.head()"
      ],
      "execution_count": 98,
      "outputs": [
        {
          "output_type": "execute_result",
          "data": {
            "text/html": [
              "<div>\n",
              "<style scoped>\n",
              "    .dataframe tbody tr th:only-of-type {\n",
              "        vertical-align: middle;\n",
              "    }\n",
              "\n",
              "    .dataframe tbody tr th {\n",
              "        vertical-align: top;\n",
              "    }\n",
              "\n",
              "    .dataframe thead th {\n",
              "        text-align: right;\n",
              "    }\n",
              "</style>\n",
              "<table border=\"1\" class=\"dataframe\">\n",
              "  <thead>\n",
              "    <tr style=\"text-align: right;\">\n",
              "      <th></th>\n",
              "      <th>EmpNr</th>\n",
              "      <th>Dest</th>\n",
              "      <th>Amount</th>\n",
              "    </tr>\n",
              "  </thead>\n",
              "  <tbody>\n",
              "    <tr>\n",
              "      <th>0</th>\n",
              "      <td>5</td>\n",
              "      <td>The Hague</td>\n",
              "      <td>10.0</td>\n",
              "    </tr>\n",
              "    <tr>\n",
              "      <th>1</th>\n",
              "      <td>3</td>\n",
              "      <td>Amsterdam</td>\n",
              "      <td>NaN</td>\n",
              "    </tr>\n",
              "    <tr>\n",
              "      <th>2</th>\n",
              "      <td>9</td>\n",
              "      <td>Rotterdam</td>\n",
              "      <td>5.0</td>\n",
              "    </tr>\n",
              "  </tbody>\n",
              "</table>\n",
              "</div>"
            ],
            "text/plain": [
              "   EmpNr       Dest  Amount\n",
              "0      5  The Hague    10.0\n",
              "1      3  Amsterdam     NaN\n",
              "2      9  Rotterdam     5.0"
            ]
          },
          "metadata": {},
          "execution_count": 98
        }
      ]
    },
    {
      "cell_type": "markdown",
      "metadata": {
        "id": "SK8WoUFVsOHM"
      },
      "source": [
        "Working on Missing records"
      ]
    },
    {
      "cell_type": "code",
      "metadata": {
        "colab": {
          "base_uri": "https://localhost:8080/"
        },
        "id": "SRyUZhz5sQ_r",
        "outputId": "318821c2-770d-40c9-da33-18e830482e7e"
      },
      "source": [
        "##checking missing valeus of the dataframe , we can check two ways using isnull function in pandas library \n",
        "##way one\n",
        "missing_records = pd.isnull(info).sum()\n",
        "missing_records"
      ],
      "execution_count": 103,
      "outputs": [
        {
          "output_type": "execute_result",
          "data": {
            "text/plain": [
              "Country                                                    0\n",
              "CountryID                                                  0\n",
              "Continent                                                  0\n",
              "Adolescent fertility rate (%)                             25\n",
              "Adult literacy rate (%)                                   71\n",
              "Gross national income per capita (PPP international $)    24\n",
              "Net primary school enrolment ratio female (%)             23\n",
              "Net primary school enrolment ratio male (%)               23\n",
              "Population (in thousands) total                           13\n",
              "dtype: int64"
            ]
          },
          "metadata": {},
          "execution_count": 103
        }
      ]
    },
    {
      "cell_type": "code",
      "metadata": {
        "colab": {
          "base_uri": "https://localhost:8080/"
        },
        "id": "BbTg8qt5tRN9",
        "outputId": "a97819ff-4525-4407-8118-b53b26945d7e"
      },
      "source": [
        "##Way two : checking missing values using isnull function \n",
        "missing_records= info.isnull().sum()\n",
        "missing_records"
      ],
      "execution_count": 105,
      "outputs": [
        {
          "output_type": "execute_result",
          "data": {
            "text/plain": [
              "Country                                                    0\n",
              "CountryID                                                  0\n",
              "Continent                                                  0\n",
              "Adolescent fertility rate (%)                             25\n",
              "Adult literacy rate (%)                                   71\n",
              "Gross national income per capita (PPP international $)    24\n",
              "Net primary school enrolment ratio female (%)             23\n",
              "Net primary school enrolment ratio male (%)               23\n",
              "Population (in thousands) total                           13\n",
              "dtype: int64"
            ]
          },
          "metadata": {},
          "execution_count": 105
        }
      ]
    },
    {
      "cell_type": "code",
      "metadata": {
        "colab": {
          "base_uri": "https://localhost:8080/"
        },
        "id": "U5L2RS_4thE5",
        "outputId": "68fb9cdc-b817-4c8a-9e0f-cd40d04c5265"
      },
      "source": [
        "##Dropping Missing values using dropna() funciton from pandas library \n",
        "drop_missing_vales = info.dropna(inplace=True)\n",
        "info.info()\n"
      ],
      "execution_count": 111,
      "outputs": [
        {
          "output_type": "stream",
          "name": "stdout",
          "text": [
            "<class 'pandas.core.frame.DataFrame'>\n",
            "Int64Index: 118 entries, 1 to 200\n",
            "Data columns (total 9 columns):\n",
            " #   Column                                                  Non-Null Count  Dtype  \n",
            "---  ------                                                  --------------  -----  \n",
            " 0   Country                                                 118 non-null    object \n",
            " 1   CountryID                                               118 non-null    int64  \n",
            " 2   Continent                                               118 non-null    int64  \n",
            " 3   Adolescent fertility rate (%)                           118 non-null    float64\n",
            " 4   Adult literacy rate (%)                                 118 non-null    float64\n",
            " 5   Gross national income per capita (PPP international $)  118 non-null    float64\n",
            " 6   Net primary school enrolment ratio female (%)           118 non-null    float64\n",
            " 7   Net primary school enrolment ratio male (%)             118 non-null    float64\n",
            " 8   Population (in thousands) total                         118 non-null    float64\n",
            "dtypes: float64(6), int64(2), object(1)\n",
            "memory usage: 9.2+ KB\n"
          ]
        }
      ]
    },
    {
      "cell_type": "code",
      "metadata": {
        "colab": {
          "base_uri": "https://localhost:8080/"
        },
        "id": "YwXAufQau6b2",
        "outputId": "a950ad21-dc60-41e6-9d60-7524b4c9575c"
      },
      "source": [
        "##filling the missing values \n",
        "info.fillna(0, inplace=True)\n",
        "info.info()"
      ],
      "execution_count": 113,
      "outputs": [
        {
          "output_type": "stream",
          "name": "stdout",
          "text": [
            "<class 'pandas.core.frame.DataFrame'>\n",
            "Int64Index: 118 entries, 1 to 200\n",
            "Data columns (total 9 columns):\n",
            " #   Column                                                  Non-Null Count  Dtype  \n",
            "---  ------                                                  --------------  -----  \n",
            " 0   Country                                                 118 non-null    object \n",
            " 1   CountryID                                               118 non-null    int64  \n",
            " 2   Continent                                               118 non-null    int64  \n",
            " 3   Adolescent fertility rate (%)                           118 non-null    float64\n",
            " 4   Adult literacy rate (%)                                 118 non-null    float64\n",
            " 5   Gross national income per capita (PPP international $)  118 non-null    float64\n",
            " 6   Net primary school enrolment ratio female (%)           118 non-null    float64\n",
            " 7   Net primary school enrolment ratio male (%)             118 non-null    float64\n",
            " 8   Population (in thousands) total                         118 non-null    float64\n",
            "dtypes: float64(6), int64(2), object(1)\n",
            "memory usage: 9.2+ KB\n"
          ]
        }
      ]
    },
    {
      "cell_type": "markdown",
      "metadata": {
        "id": "MWWkE6awvqO_"
      },
      "source": [
        "Creating pivot table using pivot() function from pandas library "
      ]
    },
    {
      "cell_type": "code",
      "metadata": {
        "colab": {
          "base_uri": "https://localhost:8080/",
          "height": 206
        },
        "id": "PulPPb55vvh9",
        "outputId": "37466e00-5afb-4b90-c117-19f2d7ca2b76"
      },
      "source": [
        "##louding purchase data \n",
        "p_data = pd.read_csv(\"purchase.csv\")\n",
        "p_data.head()"
      ],
      "execution_count": 114,
      "outputs": [
        {
          "output_type": "execute_result",
          "data": {
            "text/html": [
              "<div>\n",
              "<style scoped>\n",
              "    .dataframe tbody tr th:only-of-type {\n",
              "        vertical-align: middle;\n",
              "    }\n",
              "\n",
              "    .dataframe tbody tr th {\n",
              "        vertical-align: top;\n",
              "    }\n",
              "\n",
              "    .dataframe thead th {\n",
              "        text-align: right;\n",
              "    }\n",
              "</style>\n",
              "<table border=\"1\" class=\"dataframe\">\n",
              "  <thead>\n",
              "    <tr style=\"text-align: right;\">\n",
              "      <th></th>\n",
              "      <th>Weather</th>\n",
              "      <th>Food</th>\n",
              "      <th>Price</th>\n",
              "      <th>Number</th>\n",
              "    </tr>\n",
              "  </thead>\n",
              "  <tbody>\n",
              "    <tr>\n",
              "      <th>0</th>\n",
              "      <td>cold</td>\n",
              "      <td>soup</td>\n",
              "      <td>3.745401</td>\n",
              "      <td>8</td>\n",
              "    </tr>\n",
              "    <tr>\n",
              "      <th>1</th>\n",
              "      <td>hot</td>\n",
              "      <td>soup</td>\n",
              "      <td>9.507143</td>\n",
              "      <td>8</td>\n",
              "    </tr>\n",
              "    <tr>\n",
              "      <th>2</th>\n",
              "      <td>cold</td>\n",
              "      <td>icecream</td>\n",
              "      <td>7.319939</td>\n",
              "      <td>8</td>\n",
              "    </tr>\n",
              "    <tr>\n",
              "      <th>3</th>\n",
              "      <td>hot</td>\n",
              "      <td>chocolate</td>\n",
              "      <td>5.986585</td>\n",
              "      <td>8</td>\n",
              "    </tr>\n",
              "    <tr>\n",
              "      <th>4</th>\n",
              "      <td>cold</td>\n",
              "      <td>icecream</td>\n",
              "      <td>1.560186</td>\n",
              "      <td>8</td>\n",
              "    </tr>\n",
              "  </tbody>\n",
              "</table>\n",
              "</div>"
            ],
            "text/plain": [
              "  Weather       Food     Price  Number\n",
              "0    cold       soup  3.745401       8\n",
              "1     hot       soup  9.507143       8\n",
              "2    cold   icecream  7.319939       8\n",
              "3     hot  chocolate  5.986585       8\n",
              "4    cold   icecream  1.560186       8"
            ]
          },
          "metadata": {},
          "execution_count": 114
        }
      ]
    },
    {
      "cell_type": "code",
      "metadata": {
        "colab": {
          "base_uri": "https://localhost:8080/",
          "height": 143
        },
        "id": "jcHLoHm1v9Zv",
        "outputId": "6a51c4ec-04ff-4ce5-f4f3-61813e1daeb2"
      },
      "source": [
        "## filtering on row \n",
        "row = p_data[p_data['Food']=='soup']\n",
        "row.head()"
      ],
      "execution_count": 116,
      "outputs": [
        {
          "output_type": "execute_result",
          "data": {
            "text/html": [
              "<div>\n",
              "<style scoped>\n",
              "    .dataframe tbody tr th:only-of-type {\n",
              "        vertical-align: middle;\n",
              "    }\n",
              "\n",
              "    .dataframe tbody tr th {\n",
              "        vertical-align: top;\n",
              "    }\n",
              "\n",
              "    .dataframe thead th {\n",
              "        text-align: right;\n",
              "    }\n",
              "</style>\n",
              "<table border=\"1\" class=\"dataframe\">\n",
              "  <thead>\n",
              "    <tr style=\"text-align: right;\">\n",
              "      <th></th>\n",
              "      <th>Weather</th>\n",
              "      <th>Food</th>\n",
              "      <th>Price</th>\n",
              "      <th>Number</th>\n",
              "    </tr>\n",
              "  </thead>\n",
              "  <tbody>\n",
              "    <tr>\n",
              "      <th>0</th>\n",
              "      <td>cold</td>\n",
              "      <td>soup</td>\n",
              "      <td>3.745401</td>\n",
              "      <td>8</td>\n",
              "    </tr>\n",
              "    <tr>\n",
              "      <th>1</th>\n",
              "      <td>hot</td>\n",
              "      <td>soup</td>\n",
              "      <td>9.507143</td>\n",
              "      <td>8</td>\n",
              "    </tr>\n",
              "    <tr>\n",
              "      <th>6</th>\n",
              "      <td>cold</td>\n",
              "      <td>soup</td>\n",
              "      <td>0.580836</td>\n",
              "      <td>8</td>\n",
              "    </tr>\n",
              "  </tbody>\n",
              "</table>\n",
              "</div>"
            ],
            "text/plain": [
              "  Weather  Food     Price  Number\n",
              "0    cold  soup  3.745401       8\n",
              "1     hot  soup  9.507143       8\n",
              "6    cold  soup  0.580836       8"
            ]
          },
          "metadata": {},
          "execution_count": 116
        }
      ]
    },
    {
      "cell_type": "code",
      "metadata": {
        "colab": {
          "base_uri": "https://localhost:8080/",
          "height": 269
        },
        "id": "1zBZMvTzwIqS",
        "outputId": "c4f8451f-e2f0-4f37-9f81-461009eaa476"
      },
      "source": [
        "##showing the initial 20 records of the dat\n",
        "initialr =p_data.head(20)\n",
        "initialr"
      ],
      "execution_count": 117,
      "outputs": [
        {
          "output_type": "execute_result",
          "data": {
            "text/html": [
              "<div>\n",
              "<style scoped>\n",
              "    .dataframe tbody tr th:only-of-type {\n",
              "        vertical-align: middle;\n",
              "    }\n",
              "\n",
              "    .dataframe tbody tr th {\n",
              "        vertical-align: top;\n",
              "    }\n",
              "\n",
              "    .dataframe thead th {\n",
              "        text-align: right;\n",
              "    }\n",
              "</style>\n",
              "<table border=\"1\" class=\"dataframe\">\n",
              "  <thead>\n",
              "    <tr style=\"text-align: right;\">\n",
              "      <th></th>\n",
              "      <th>Weather</th>\n",
              "      <th>Food</th>\n",
              "      <th>Price</th>\n",
              "      <th>Number</th>\n",
              "    </tr>\n",
              "  </thead>\n",
              "  <tbody>\n",
              "    <tr>\n",
              "      <th>0</th>\n",
              "      <td>cold</td>\n",
              "      <td>soup</td>\n",
              "      <td>3.745401</td>\n",
              "      <td>8</td>\n",
              "    </tr>\n",
              "    <tr>\n",
              "      <th>1</th>\n",
              "      <td>hot</td>\n",
              "      <td>soup</td>\n",
              "      <td>9.507143</td>\n",
              "      <td>8</td>\n",
              "    </tr>\n",
              "    <tr>\n",
              "      <th>2</th>\n",
              "      <td>cold</td>\n",
              "      <td>icecream</td>\n",
              "      <td>7.319939</td>\n",
              "      <td>8</td>\n",
              "    </tr>\n",
              "    <tr>\n",
              "      <th>3</th>\n",
              "      <td>hot</td>\n",
              "      <td>chocolate</td>\n",
              "      <td>5.986585</td>\n",
              "      <td>8</td>\n",
              "    </tr>\n",
              "    <tr>\n",
              "      <th>4</th>\n",
              "      <td>cold</td>\n",
              "      <td>icecream</td>\n",
              "      <td>1.560186</td>\n",
              "      <td>8</td>\n",
              "    </tr>\n",
              "    <tr>\n",
              "      <th>5</th>\n",
              "      <td>hot</td>\n",
              "      <td>icecream</td>\n",
              "      <td>1.559945</td>\n",
              "      <td>8</td>\n",
              "    </tr>\n",
              "    <tr>\n",
              "      <th>6</th>\n",
              "      <td>cold</td>\n",
              "      <td>soup</td>\n",
              "      <td>0.580836</td>\n",
              "      <td>8</td>\n",
              "    </tr>\n",
              "  </tbody>\n",
              "</table>\n",
              "</div>"
            ],
            "text/plain": [
              "  Weather       Food     Price  Number\n",
              "0    cold       soup  3.745401       8\n",
              "1     hot       soup  9.507143       8\n",
              "2    cold   icecream  7.319939       8\n",
              "3     hot  chocolate  5.986585       8\n",
              "4    cold   icecream  1.560186       8\n",
              "5     hot   icecream  1.559945       8\n",
              "6    cold       soup  0.580836       8"
            ]
          },
          "metadata": {},
          "execution_count": 117
        }
      ]
    },
    {
      "cell_type": "code",
      "metadata": {
        "colab": {
          "base_uri": "https://localhost:8080/",
          "height": 143
        },
        "id": "zMdr-mZEwUw_",
        "outputId": "c2dfb076-8d12-400e-e1db-9703669a45bd"
      },
      "source": [
        "##creating pivot table\n",
        "pd.pivot_table(p_data,values='Number',index =['Weather'],\n",
        "                         columns=['Food'],aggfunc =np.sum)"
      ],
      "execution_count": 131,
      "outputs": [
        {
          "output_type": "execute_result",
          "data": {
            "text/html": [
              "<div>\n",
              "<style scoped>\n",
              "    .dataframe tbody tr th:only-of-type {\n",
              "        vertical-align: middle;\n",
              "    }\n",
              "\n",
              "    .dataframe tbody tr th {\n",
              "        vertical-align: top;\n",
              "    }\n",
              "\n",
              "    .dataframe thead th {\n",
              "        text-align: right;\n",
              "    }\n",
              "</style>\n",
              "<table border=\"1\" class=\"dataframe\">\n",
              "  <thead>\n",
              "    <tr style=\"text-align: right;\">\n",
              "      <th>Food</th>\n",
              "      <th>chocolate</th>\n",
              "      <th>icecream</th>\n",
              "      <th>soup</th>\n",
              "    </tr>\n",
              "    <tr>\n",
              "      <th>Weather</th>\n",
              "      <th></th>\n",
              "      <th></th>\n",
              "      <th></th>\n",
              "    </tr>\n",
              "  </thead>\n",
              "  <tbody>\n",
              "    <tr>\n",
              "      <th>cold</th>\n",
              "      <td>NaN</td>\n",
              "      <td>16.0</td>\n",
              "      <td>16.0</td>\n",
              "    </tr>\n",
              "    <tr>\n",
              "      <th>hot</th>\n",
              "      <td>8.0</td>\n",
              "      <td>8.0</td>\n",
              "      <td>8.0</td>\n",
              "    </tr>\n",
              "  </tbody>\n",
              "</table>\n",
              "</div>"
            ],
            "text/plain": [
              "Food     chocolate  icecream  soup\n",
              "Weather                           \n",
              "cold           NaN      16.0  16.0\n",
              "hot            8.0       8.0   8.0"
            ]
          },
          "metadata": {},
          "execution_count": 131
        }
      ]
    }
  ]
}